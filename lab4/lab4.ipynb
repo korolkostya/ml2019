{
 "cells": [
  {
   "cell_type": "markdown",
   "metadata": {},
   "source": [
    "Описание признаков\n",
    "> 1. age \n",
    "> 2. sex \n",
    "> 3. chest pain type (4 values) \n",
    "> 4. resting blood pressure \n",
    "> 5. serum cholestoral in mg/dl \n",
    "> 6. fasting blood sugar > 120 mg/dl\n",
    "> 7. resting electrocardiographic results (values 0,1,2)\n",
    "> 8. maximum heart rate achieved \n",
    "> 9. exercise induced angina \n",
    "> 10. oldpeak = ST depression induced by exercise relative to rest \n",
    "> 11. the slope of the peak exercise ST segment \n",
    "> 12. number of major vessels (0-3) colored by flourosopy \n",
    "> 13. thal: 3 = normal; 6 = fixed defect; 7 = reversable defect"
   ]
  },
  {
   "cell_type": "code",
   "execution_count": 1,
   "metadata": {},
   "outputs": [],
   "source": [
    "import pandas as pd\n",
    "import numpy as np\n",
    "from sklearn.model_selection import train_test_split\n",
    "from sklearn.neighbors import KNeighborsClassifier\n",
    "from sklearn.metrics import classification_report\n",
    "from sklearn.metrics import accuracy_score, recall_score, f1_score\n",
    "from sklearn.metrics import make_scorer\n",
    "from sklearn.model_selection import GridSearchCV\n",
    "from sklearn.model_selection import learning_curve, validation_curve\n",
    "import matplotlib.pyplot as plt"
   ]
  },
  {
   "cell_type": "code",
   "execution_count": 4,
   "metadata": {},
   "outputs": [
    {
     "data": {
      "text/html": [
       "<div>\n",
       "<style scoped>\n",
       "    .dataframe tbody tr th:only-of-type {\n",
       "        vertical-align: middle;\n",
       "    }\n",
       "\n",
       "    .dataframe tbody tr th {\n",
       "        vertical-align: top;\n",
       "    }\n",
       "\n",
       "    .dataframe thead th {\n",
       "        text-align: right;\n",
       "    }\n",
       "</style>\n",
       "<table border=\"1\" class=\"dataframe\">\n",
       "  <thead>\n",
       "    <tr style=\"text-align: right;\">\n",
       "      <th></th>\n",
       "      <th>age</th>\n",
       "      <th>sex</th>\n",
       "      <th>cp</th>\n",
       "      <th>trestbps</th>\n",
       "      <th>chol</th>\n",
       "      <th>fbs</th>\n",
       "      <th>restecg</th>\n",
       "      <th>thalach</th>\n",
       "      <th>exang</th>\n",
       "      <th>oldpeak</th>\n",
       "      <th>slope</th>\n",
       "      <th>ca</th>\n",
       "      <th>thal</th>\n",
       "      <th>target</th>\n",
       "    </tr>\n",
       "  </thead>\n",
       "  <tbody>\n",
       "    <tr>\n",
       "      <th>0</th>\n",
       "      <td>63</td>\n",
       "      <td>1</td>\n",
       "      <td>3</td>\n",
       "      <td>145</td>\n",
       "      <td>233</td>\n",
       "      <td>1</td>\n",
       "      <td>0</td>\n",
       "      <td>150</td>\n",
       "      <td>0</td>\n",
       "      <td>2.3</td>\n",
       "      <td>0</td>\n",
       "      <td>0</td>\n",
       "      <td>1</td>\n",
       "      <td>1</td>\n",
       "    </tr>\n",
       "    <tr>\n",
       "      <th>1</th>\n",
       "      <td>37</td>\n",
       "      <td>1</td>\n",
       "      <td>2</td>\n",
       "      <td>130</td>\n",
       "      <td>250</td>\n",
       "      <td>0</td>\n",
       "      <td>1</td>\n",
       "      <td>187</td>\n",
       "      <td>0</td>\n",
       "      <td>3.5</td>\n",
       "      <td>0</td>\n",
       "      <td>0</td>\n",
       "      <td>2</td>\n",
       "      <td>1</td>\n",
       "    </tr>\n",
       "    <tr>\n",
       "      <th>2</th>\n",
       "      <td>41</td>\n",
       "      <td>0</td>\n",
       "      <td>1</td>\n",
       "      <td>130</td>\n",
       "      <td>204</td>\n",
       "      <td>0</td>\n",
       "      <td>0</td>\n",
       "      <td>172</td>\n",
       "      <td>0</td>\n",
       "      <td>1.4</td>\n",
       "      <td>2</td>\n",
       "      <td>0</td>\n",
       "      <td>2</td>\n",
       "      <td>1</td>\n",
       "    </tr>\n",
       "    <tr>\n",
       "      <th>3</th>\n",
       "      <td>56</td>\n",
       "      <td>1</td>\n",
       "      <td>1</td>\n",
       "      <td>120</td>\n",
       "      <td>236</td>\n",
       "      <td>0</td>\n",
       "      <td>1</td>\n",
       "      <td>178</td>\n",
       "      <td>0</td>\n",
       "      <td>0.8</td>\n",
       "      <td>2</td>\n",
       "      <td>0</td>\n",
       "      <td>2</td>\n",
       "      <td>1</td>\n",
       "    </tr>\n",
       "    <tr>\n",
       "      <th>4</th>\n",
       "      <td>57</td>\n",
       "      <td>0</td>\n",
       "      <td>0</td>\n",
       "      <td>120</td>\n",
       "      <td>354</td>\n",
       "      <td>0</td>\n",
       "      <td>1</td>\n",
       "      <td>163</td>\n",
       "      <td>1</td>\n",
       "      <td>0.6</td>\n",
       "      <td>2</td>\n",
       "      <td>0</td>\n",
       "      <td>2</td>\n",
       "      <td>1</td>\n",
       "    </tr>\n",
       "  </tbody>\n",
       "</table>\n",
       "</div>"
      ],
      "text/plain": [
       "   age  sex  cp  trestbps  chol  fbs  restecg  thalach  exang  oldpeak  slope  \\\n",
       "0   63    1   3       145   233    1        0      150      0      2.3      0   \n",
       "1   37    1   2       130   250    0        1      187      0      3.5      0   \n",
       "2   41    0   1       130   204    0        0      172      0      1.4      2   \n",
       "3   56    1   1       120   236    0        1      178      0      0.8      2   \n",
       "4   57    0   0       120   354    0        1      163      1      0.6      2   \n",
       "\n",
       "   ca  thal  target  \n",
       "0   0     1       1  \n",
       "1   0     2       1  \n",
       "2   0     2       1  \n",
       "3   0     2       1  \n",
       "4   0     2       1  "
      ]
     },
     "execution_count": 4,
     "metadata": {},
     "output_type": "execute_result"
    }
   ],
   "source": [
    "data = pd.read_csv('data/heart.csv', sep=',')\n",
    "data.head()"
   ]
  },
  {
   "cell_type": "code",
   "execution_count": 5,
   "metadata": {},
   "outputs": [
    {
     "data": {
      "text/html": [
       "<div>\n",
       "<style scoped>\n",
       "    .dataframe tbody tr th:only-of-type {\n",
       "        vertical-align: middle;\n",
       "    }\n",
       "\n",
       "    .dataframe tbody tr th {\n",
       "        vertical-align: top;\n",
       "    }\n",
       "\n",
       "    .dataframe thead th {\n",
       "        text-align: right;\n",
       "    }\n",
       "</style>\n",
       "<table border=\"1\" class=\"dataframe\">\n",
       "  <thead>\n",
       "    <tr style=\"text-align: right;\">\n",
       "      <th></th>\n",
       "      <th>age</th>\n",
       "      <th>sex</th>\n",
       "      <th>cp</th>\n",
       "      <th>trestbps</th>\n",
       "      <th>chol</th>\n",
       "      <th>fbs</th>\n",
       "      <th>restecg</th>\n",
       "      <th>thalach</th>\n",
       "      <th>exang</th>\n",
       "      <th>oldpeak</th>\n",
       "      <th>slope</th>\n",
       "      <th>ca</th>\n",
       "      <th>thal</th>\n",
       "    </tr>\n",
       "  </thead>\n",
       "  <tbody>\n",
       "    <tr>\n",
       "      <th>0</th>\n",
       "      <td>63</td>\n",
       "      <td>1</td>\n",
       "      <td>3</td>\n",
       "      <td>145</td>\n",
       "      <td>233</td>\n",
       "      <td>1</td>\n",
       "      <td>0</td>\n",
       "      <td>150</td>\n",
       "      <td>0</td>\n",
       "      <td>2.3</td>\n",
       "      <td>0</td>\n",
       "      <td>0</td>\n",
       "      <td>1</td>\n",
       "    </tr>\n",
       "    <tr>\n",
       "      <th>1</th>\n",
       "      <td>37</td>\n",
       "      <td>1</td>\n",
       "      <td>2</td>\n",
       "      <td>130</td>\n",
       "      <td>250</td>\n",
       "      <td>0</td>\n",
       "      <td>1</td>\n",
       "      <td>187</td>\n",
       "      <td>0</td>\n",
       "      <td>3.5</td>\n",
       "      <td>0</td>\n",
       "      <td>0</td>\n",
       "      <td>2</td>\n",
       "    </tr>\n",
       "    <tr>\n",
       "      <th>2</th>\n",
       "      <td>41</td>\n",
       "      <td>0</td>\n",
       "      <td>1</td>\n",
       "      <td>130</td>\n",
       "      <td>204</td>\n",
       "      <td>0</td>\n",
       "      <td>0</td>\n",
       "      <td>172</td>\n",
       "      <td>0</td>\n",
       "      <td>1.4</td>\n",
       "      <td>2</td>\n",
       "      <td>0</td>\n",
       "      <td>2</td>\n",
       "    </tr>\n",
       "    <tr>\n",
       "      <th>3</th>\n",
       "      <td>56</td>\n",
       "      <td>1</td>\n",
       "      <td>1</td>\n",
       "      <td>120</td>\n",
       "      <td>236</td>\n",
       "      <td>0</td>\n",
       "      <td>1</td>\n",
       "      <td>178</td>\n",
       "      <td>0</td>\n",
       "      <td>0.8</td>\n",
       "      <td>2</td>\n",
       "      <td>0</td>\n",
       "      <td>2</td>\n",
       "    </tr>\n",
       "    <tr>\n",
       "      <th>4</th>\n",
       "      <td>57</td>\n",
       "      <td>0</td>\n",
       "      <td>0</td>\n",
       "      <td>120</td>\n",
       "      <td>354</td>\n",
       "      <td>0</td>\n",
       "      <td>1</td>\n",
       "      <td>163</td>\n",
       "      <td>1</td>\n",
       "      <td>0.6</td>\n",
       "      <td>2</td>\n",
       "      <td>0</td>\n",
       "      <td>2</td>\n",
       "    </tr>\n",
       "  </tbody>\n",
       "</table>\n",
       "</div>"
      ],
      "text/plain": [
       "   age  sex  cp  trestbps  chol  fbs  restecg  thalach  exang  oldpeak  slope  \\\n",
       "0   63    1   3       145   233    1        0      150      0      2.3      0   \n",
       "1   37    1   2       130   250    0        1      187      0      3.5      0   \n",
       "2   41    0   1       130   204    0        0      172      0      1.4      2   \n",
       "3   56    1   1       120   236    0        1      178      0      0.8      2   \n",
       "4   57    0   0       120   354    0        1      163      1      0.6      2   \n",
       "\n",
       "   ca  thal  \n",
       "0   0     1  \n",
       "1   0     2  \n",
       "2   0     2  \n",
       "3   0     2  \n",
       "4   0     2  "
      ]
     },
     "execution_count": 5,
     "metadata": {},
     "output_type": "execute_result"
    }
   ],
   "source": [
    "X = data.loc[:, data.columns != 'target']\n",
    "X.head()"
   ]
  },
  {
   "cell_type": "code",
   "execution_count": 6,
   "metadata": {},
   "outputs": [
    {
     "data": {
      "text/plain": [
       "0    1\n",
       "1    1\n",
       "2    1\n",
       "3    1\n",
       "4    1\n",
       "Name: target, dtype: int64"
      ]
     },
     "execution_count": 6,
     "metadata": {},
     "output_type": "execute_result"
    }
   ],
   "source": [
    "Y = data['target']\n",
    "Y.head()"
   ]
  },
  {
   "cell_type": "code",
   "execution_count": 7,
   "metadata": {},
   "outputs": [
    {
     "data": {
      "text/plain": [
       "age         0\n",
       "sex         0\n",
       "cp          0\n",
       "trestbps    0\n",
       "chol        0\n",
       "fbs         0\n",
       "restecg     0\n",
       "thalach     0\n",
       "exang       0\n",
       "oldpeak     0\n",
       "slope       0\n",
       "ca          0\n",
       "thal        0\n",
       "target      0\n",
       "dtype: int64"
      ]
     },
     "execution_count": 7,
     "metadata": {},
     "output_type": "execute_result"
    }
   ],
   "source": [
    "data.isnull().sum()"
   ]
  },
  {
   "cell_type": "code",
   "execution_count": 11,
   "metadata": {},
   "outputs": [
    {
     "data": {
      "text/plain": [
       "((242, 13), (242,))"
      ]
     },
     "execution_count": 11,
     "metadata": {},
     "output_type": "execute_result"
    }
   ],
   "source": [
    "X_train, X_test, y_train, y_test = train_test_split(\n",
    "X, Y, test_size = 0.2, random_state = 1)\n",
    "X_train.shape, y_train.shape"
   ]
  },
  {
   "cell_type": "code",
   "execution_count": 12,
   "metadata": {},
   "outputs": [
    {
     "data": {
      "text/plain": [
       "((61, 13), (61,))"
      ]
     },
     "execution_count": 12,
     "metadata": {},
     "output_type": "execute_result"
    }
   ],
   "source": [
    "X_test.shape, y_test.shape"
   ]
  },
  {
   "cell_type": "code",
   "execution_count": 17,
   "metadata": {},
   "outputs": [
    {
     "data": {
      "text/plain": [
       "array([0, 1, 1, 1, 0, 0, 0, 1, 1, 1, 0, 0, 0, 0, 1, 1, 1, 1, 1, 1, 0, 0,\n",
       "       0, 1, 1, 1, 1, 1, 0, 0, 1, 1, 1, 1, 1, 1, 1, 0, 1, 0, 1, 0, 1, 0,\n",
       "       1, 1, 1, 0, 1, 0, 1, 1, 0, 0, 1, 1, 1, 0, 1, 0, 0], dtype=int64)"
      ]
     },
     "execution_count": 17,
     "metadata": {},
     "output_type": "execute_result"
    }
   ],
   "source": [
    "knc = KNeighborsClassifier(n_neighbors=5)\n",
    "knc.fit(X_train, y_train)\n",
    "predicted = knc.predict(X_test)\n",
    "predicted"
   ]
  },
  {
   "cell_type": "markdown",
   "metadata": {},
   "source": [
    "Метрики: f1, recall, accuracy"
   ]
  },
  {
   "cell_type": "code",
   "execution_count": 18,
   "metadata": {},
   "outputs": [
    {
     "data": {
      "text/plain": [
       "({'precision': 0.5833333333333334,\n",
       "  'recall': 0.4666666666666667,\n",
       "  'f1-score': 0.5185185185185186,\n",
       "  'support': 30},\n",
       " {'precision': 0.5675675675675675,\n",
       "  'recall': 0.6774193548387096,\n",
       "  'f1-score': 0.6176470588235294,\n",
       "  'support': 31})"
      ]
     },
     "execution_count": 18,
     "metadata": {},
     "output_type": "execute_result"
    }
   ],
   "source": [
    "classification_report(y_test, predicted, output_dict=True)[\"0\"], \\\n",
    "classification_report(y_test, predicted, output_dict=True)[\"1\"]"
   ]
  },
  {
   "cell_type": "code",
   "execution_count": 19,
   "metadata": {},
   "outputs": [
    {
     "data": {
      "text/plain": [
       "[{'n_neighbors': array([ 1,  4,  7, 10, 13, 16, 19, 22, 25, 28, 31, 34, 37, 40, 43, 46, 49,\n",
       "         52, 55, 58])}]"
      ]
     },
     "execution_count": 19,
     "metadata": {},
     "output_type": "execute_result"
    }
   ],
   "source": [
    "# при помощи решетчатого поиска и кросс-валидации найдем оптимальное значение гиперпараметра k\n",
    "scoring = {\n",
    "    'recall': make_scorer(recall_score), \n",
    "    'f1': make_scorer(f1_score), \n",
    "    'accuracy': make_scorer(accuracy_score)\n",
    "}\n",
    "n_range = np.array(range(1,60,3))\n",
    "tuned_parameters = [{'n_neighbors': n_range}]\n",
    "tuned_parameters"
   ]
  },
  {
   "cell_type": "code",
   "execution_count": 20,
   "metadata": {},
   "outputs": [
    {
     "name": "stderr",
     "output_type": "stream",
     "text": [
      "C:\\ProgramData\\Anaconda3\\lib\\site-packages\\sklearn\\model_selection\\_search.py:841: DeprecationWarning: The default of the `iid` parameter will change from True to False in version 0.22 and will be removed in 0.24. This will change numeric results when test-set sizes are unequal.\n",
      "  DeprecationWarning)\n"
     ]
    },
    {
     "data": {
      "text/plain": [
       "GridSearchCV(cv=5, error_score='raise-deprecating',\n",
       "       estimator=KNeighborsClassifier(algorithm='auto', leaf_size=30, metric='minkowski',\n",
       "           metric_params=None, n_jobs=None, n_neighbors=5, p=2,\n",
       "           weights='uniform'),\n",
       "       fit_params=None, iid='warn', n_jobs=None,\n",
       "       param_grid=[{'n_neighbors': array([ 1,  4,  7, 10, 13, 16, 19, 22, 25, 28, 31, 34, 37, 40, 43, 46, 49,\n",
       "       52, 55, 58])}],\n",
       "       pre_dispatch='2*n_jobs', refit='f1', return_train_score='warn',\n",
       "       scoring={'recall': make_scorer(recall_score), 'f1': make_scorer(f1_score), 'accuracy': make_scorer(accuracy_score)},\n",
       "       verbose=0)"
      ]
     },
     "execution_count": 20,
     "metadata": {},
     "output_type": "execute_result"
    }
   ],
   "source": [
    "knc_gs = GridSearchCV(KNeighborsClassifier(), tuned_parameters, cv=5, scoring=scoring, refit='f1')\n",
    "knc_gs.fit(X_train, y_train)"
   ]
  },
  {
   "cell_type": "code",
   "execution_count": 21,
   "metadata": {},
   "outputs": [
    {
     "name": "stderr",
     "output_type": "stream",
     "text": [
      "C:\\ProgramData\\Anaconda3\\lib\\site-packages\\sklearn\\utils\\deprecation.py:125: FutureWarning: You are accessing a training score ('split0_train_recall'), which will not be available by default any more in 0.21. If you need training scores, please set return_train_score=True\n",
      "  warnings.warn(*warn_args, **warn_kwargs)\n",
      "C:\\ProgramData\\Anaconda3\\lib\\site-packages\\sklearn\\utils\\deprecation.py:125: FutureWarning: You are accessing a training score ('split1_train_recall'), which will not be available by default any more in 0.21. If you need training scores, please set return_train_score=True\n",
      "  warnings.warn(*warn_args, **warn_kwargs)\n",
      "C:\\ProgramData\\Anaconda3\\lib\\site-packages\\sklearn\\utils\\deprecation.py:125: FutureWarning: You are accessing a training score ('split2_train_recall'), which will not be available by default any more in 0.21. If you need training scores, please set return_train_score=True\n",
      "  warnings.warn(*warn_args, **warn_kwargs)\n",
      "C:\\ProgramData\\Anaconda3\\lib\\site-packages\\sklearn\\utils\\deprecation.py:125: FutureWarning: You are accessing a training score ('split3_train_recall'), which will not be available by default any more in 0.21. If you need training scores, please set return_train_score=True\n",
      "  warnings.warn(*warn_args, **warn_kwargs)\n",
      "C:\\ProgramData\\Anaconda3\\lib\\site-packages\\sklearn\\utils\\deprecation.py:125: FutureWarning: You are accessing a training score ('split4_train_recall'), which will not be available by default any more in 0.21. If you need training scores, please set return_train_score=True\n",
      "  warnings.warn(*warn_args, **warn_kwargs)\n",
      "C:\\ProgramData\\Anaconda3\\lib\\site-packages\\sklearn\\utils\\deprecation.py:125: FutureWarning: You are accessing a training score ('mean_train_recall'), which will not be available by default any more in 0.21. If you need training scores, please set return_train_score=True\n",
      "  warnings.warn(*warn_args, **warn_kwargs)\n",
      "C:\\ProgramData\\Anaconda3\\lib\\site-packages\\sklearn\\utils\\deprecation.py:125: FutureWarning: You are accessing a training score ('std_train_recall'), which will not be available by default any more in 0.21. If you need training scores, please set return_train_score=True\n",
      "  warnings.warn(*warn_args, **warn_kwargs)\n",
      "C:\\ProgramData\\Anaconda3\\lib\\site-packages\\sklearn\\utils\\deprecation.py:125: FutureWarning: You are accessing a training score ('split0_train_f1'), which will not be available by default any more in 0.21. If you need training scores, please set return_train_score=True\n",
      "  warnings.warn(*warn_args, **warn_kwargs)\n",
      "C:\\ProgramData\\Anaconda3\\lib\\site-packages\\sklearn\\utils\\deprecation.py:125: FutureWarning: You are accessing a training score ('split1_train_f1'), which will not be available by default any more in 0.21. If you need training scores, please set return_train_score=True\n",
      "  warnings.warn(*warn_args, **warn_kwargs)\n",
      "C:\\ProgramData\\Anaconda3\\lib\\site-packages\\sklearn\\utils\\deprecation.py:125: FutureWarning: You are accessing a training score ('split2_train_f1'), which will not be available by default any more in 0.21. If you need training scores, please set return_train_score=True\n",
      "  warnings.warn(*warn_args, **warn_kwargs)\n",
      "C:\\ProgramData\\Anaconda3\\lib\\site-packages\\sklearn\\utils\\deprecation.py:125: FutureWarning: You are accessing a training score ('split3_train_f1'), which will not be available by default any more in 0.21. If you need training scores, please set return_train_score=True\n",
      "  warnings.warn(*warn_args, **warn_kwargs)\n",
      "C:\\ProgramData\\Anaconda3\\lib\\site-packages\\sklearn\\utils\\deprecation.py:125: FutureWarning: You are accessing a training score ('split4_train_f1'), which will not be available by default any more in 0.21. If you need training scores, please set return_train_score=True\n",
      "  warnings.warn(*warn_args, **warn_kwargs)\n",
      "C:\\ProgramData\\Anaconda3\\lib\\site-packages\\sklearn\\utils\\deprecation.py:125: FutureWarning: You are accessing a training score ('mean_train_f1'), which will not be available by default any more in 0.21. If you need training scores, please set return_train_score=True\n",
      "  warnings.warn(*warn_args, **warn_kwargs)\n",
      "C:\\ProgramData\\Anaconda3\\lib\\site-packages\\sklearn\\utils\\deprecation.py:125: FutureWarning: You are accessing a training score ('std_train_f1'), which will not be available by default any more in 0.21. If you need training scores, please set return_train_score=True\n",
      "  warnings.warn(*warn_args, **warn_kwargs)\n",
      "C:\\ProgramData\\Anaconda3\\lib\\site-packages\\sklearn\\utils\\deprecation.py:125: FutureWarning: You are accessing a training score ('split0_train_accuracy'), which will not be available by default any more in 0.21. If you need training scores, please set return_train_score=True\n",
      "  warnings.warn(*warn_args, **warn_kwargs)\n",
      "C:\\ProgramData\\Anaconda3\\lib\\site-packages\\sklearn\\utils\\deprecation.py:125: FutureWarning: You are accessing a training score ('split1_train_accuracy'), which will not be available by default any more in 0.21. If you need training scores, please set return_train_score=True\n",
      "  warnings.warn(*warn_args, **warn_kwargs)\n",
      "C:\\ProgramData\\Anaconda3\\lib\\site-packages\\sklearn\\utils\\deprecation.py:125: FutureWarning: You are accessing a training score ('split2_train_accuracy'), which will not be available by default any more in 0.21. If you need training scores, please set return_train_score=True\n",
      "  warnings.warn(*warn_args, **warn_kwargs)\n",
      "C:\\ProgramData\\Anaconda3\\lib\\site-packages\\sklearn\\utils\\deprecation.py:125: FutureWarning: You are accessing a training score ('split3_train_accuracy'), which will not be available by default any more in 0.21. If you need training scores, please set return_train_score=True\n",
      "  warnings.warn(*warn_args, **warn_kwargs)\n",
      "C:\\ProgramData\\Anaconda3\\lib\\site-packages\\sklearn\\utils\\deprecation.py:125: FutureWarning: You are accessing a training score ('split4_train_accuracy'), which will not be available by default any more in 0.21. If you need training scores, please set return_train_score=True\n",
      "  warnings.warn(*warn_args, **warn_kwargs)\n",
      "C:\\ProgramData\\Anaconda3\\lib\\site-packages\\sklearn\\utils\\deprecation.py:125: FutureWarning: You are accessing a training score ('mean_train_accuracy'), which will not be available by default any more in 0.21. If you need training scores, please set return_train_score=True\n",
      "  warnings.warn(*warn_args, **warn_kwargs)\n",
      "C:\\ProgramData\\Anaconda3\\lib\\site-packages\\sklearn\\utils\\deprecation.py:125: FutureWarning: You are accessing a training score ('std_train_accuracy'), which will not be available by default any more in 0.21. If you need training scores, please set return_train_score=True\n",
      "  warnings.warn(*warn_args, **warn_kwargs)\n"
     ]
    },
    {
     "data": {
      "text/plain": [
       "{'mean_fit_time': array([0.00199656, 0.00179501, 0.00179691, 0.00179634, 0.00159898,\n",
       "        0.00139937, 0.0015964 , 0.00180006, 0.00159907, 0.00159917,\n",
       "        0.00179887, 0.00139904, 0.0018012 , 0.00160127, 0.00159903,\n",
       "        0.00199928, 0.00199866, 0.00199814, 0.00159569, 0.00160103]),\n",
       " 'std_fit_time': array([3.03607128e-06, 3.98488662e-04, 4.04095857e-04, 3.98354557e-04,\n",
       "        4.89706900e-04, 4.89901475e-04, 4.86646800e-04, 3.98756966e-04,\n",
       "        4.89687246e-04, 4.89473113e-04, 4.00185596e-04, 4.89493097e-04,\n",
       "        4.00783586e-04, 4.87207451e-04, 4.89745687e-04, 4.15696997e-07,\n",
       "        4.26496120e-07, 6.14805659e-06, 4.87151655e-04, 4.91213641e-04]),\n",
       " 'mean_score_time': array([0.00759645, 0.00799556, 0.00779281, 0.00739841, 0.00759449,\n",
       "        0.00759549, 0.00739813, 0.00759106, 0.00779419, 0.00785155,\n",
       "        0.00759583, 0.00759435, 0.00799742, 0.00799522, 0.00798254,\n",
       "        0.00959482, 0.0083952 , 0.00839653, 0.00799799, 0.00828195]),\n",
       " 'std_score_time': array([8.02484643e-04, 7.96103877e-06, 3.98247949e-04, 4.87723101e-04,\n",
       "        4.88738725e-04, 4.89551027e-04, 4.87077265e-04, 4.88796451e-04,\n",
       "        3.99143732e-04, 4.41522999e-04, 4.89531542e-04, 4.88430984e-04,\n",
       "        4.12016002e-06, 4.90933902e-07, 1.79232426e-05, 1.49656742e-03,\n",
       "        4.89589914e-04, 4.85032527e-04, 4.54123247e-06, 3.94973403e-04]),\n",
       " 'param_n_neighbors': masked_array(data=[1, 4, 7, 10, 13, 16, 19, 22, 25, 28, 31, 34, 37, 40,\n",
       "                    43, 46, 49, 52, 55, 58],\n",
       "              mask=[False, False, False, False, False, False, False, False,\n",
       "                    False, False, False, False, False, False, False, False,\n",
       "                    False, False, False, False],\n",
       "        fill_value='?',\n",
       "             dtype=object),\n",
       " 'params': [{'n_neighbors': 1},\n",
       "  {'n_neighbors': 4},\n",
       "  {'n_neighbors': 7},\n",
       "  {'n_neighbors': 10},\n",
       "  {'n_neighbors': 13},\n",
       "  {'n_neighbors': 16},\n",
       "  {'n_neighbors': 19},\n",
       "  {'n_neighbors': 22},\n",
       "  {'n_neighbors': 25},\n",
       "  {'n_neighbors': 28},\n",
       "  {'n_neighbors': 31},\n",
       "  {'n_neighbors': 34},\n",
       "  {'n_neighbors': 37},\n",
       "  {'n_neighbors': 40},\n",
       "  {'n_neighbors': 43},\n",
       "  {'n_neighbors': 46},\n",
       "  {'n_neighbors': 49},\n",
       "  {'n_neighbors': 52},\n",
       "  {'n_neighbors': 55},\n",
       "  {'n_neighbors': 58}],\n",
       " 'split0_test_recall': array([0.7037037 , 0.55555556, 0.66666667, 0.51851852, 0.74074074,\n",
       "        0.7037037 , 0.77777778, 0.7037037 , 0.74074074, 0.7037037 ,\n",
       "        0.74074074, 0.7037037 , 0.66666667, 0.66666667, 0.66666667,\n",
       "        0.66666667, 0.7037037 , 0.7037037 , 0.7037037 , 0.74074074]),\n",
       " 'split1_test_recall': array([0.59259259, 0.55555556, 0.66666667, 0.66666667, 0.7037037 ,\n",
       "        0.62962963, 0.66666667, 0.62962963, 0.74074074, 0.74074074,\n",
       "        0.81481481, 0.77777778, 0.81481481, 0.81481481, 0.85185185,\n",
       "        0.85185185, 0.81481481, 0.85185185, 0.81481481, 0.77777778]),\n",
       " 'split2_test_recall': array([0.7037037 , 0.51851852, 0.66666667, 0.59259259, 0.59259259,\n",
       "        0.51851852, 0.59259259, 0.55555556, 0.66666667, 0.62962963,\n",
       "        0.66666667, 0.7037037 , 0.7037037 , 0.66666667, 0.74074074,\n",
       "        0.66666667, 0.7037037 , 0.66666667, 0.74074074, 0.66666667]),\n",
       " 'split3_test_recall': array([0.81481481, 0.74074074, 0.88888889, 0.74074074, 0.81481481,\n",
       "        0.85185185, 0.85185185, 0.85185185, 0.85185185, 0.85185185,\n",
       "        0.85185185, 0.81481481, 0.88888889, 0.85185185, 0.81481481,\n",
       "        0.81481481, 0.85185185, 0.81481481, 0.81481481, 0.88888889]),\n",
       " 'split4_test_recall': array([0.61538462, 0.57692308, 0.61538462, 0.61538462, 0.69230769,\n",
       "        0.65384615, 0.76923077, 0.73076923, 0.73076923, 0.73076923,\n",
       "        0.73076923, 0.76923077, 0.76923077, 0.76923077, 0.76923077,\n",
       "        0.76923077, 0.80769231, 0.80769231, 0.80769231, 0.80769231]),\n",
       " 'mean_test_recall': array([0.68609169, 0.58893716, 0.70078406, 0.6264039 , 0.70853053,\n",
       "        0.67091074, 0.73081632, 0.69334958, 0.74584422, 0.73084575,\n",
       "        0.76084269, 0.75346707, 0.76815945, 0.75331403, 0.76846554,\n",
       "        0.75346707, 0.7757823 , 0.76843611, 0.77593534, 0.77562925]),\n",
       " 'std_test_recall': array([0.07844245, 0.07780821, 0.09561212, 0.07438399, 0.07230594,\n",
       "        0.10869879, 0.09132696, 0.09971634, 0.05960699, 0.07174695,\n",
       "        0.06546715, 0.04378646, 0.07911319, 0.0760347 , 0.06393781,\n",
       "        0.07619545, 0.0613016 , 0.0712766 , 0.04592365, 0.07345343]),\n",
       " 'rank_test_recall': array([17, 20, 15, 19, 14, 18, 13, 16, 11, 12,  7,  8,  6, 10,  4,  8,  2,\n",
       "         5,  1,  3]),\n",
       " 'split0_train_recall': array([1.        , 0.71962617, 0.77570093, 0.75700935, 0.80373832,\n",
       "        0.76635514, 0.8317757 , 0.78504673, 0.77570093, 0.73831776,\n",
       "        0.75700935, 0.77570093, 0.8317757 , 0.77570093, 0.8317757 ,\n",
       "        0.80373832, 0.8317757 , 0.80373832, 0.81308411, 0.79439252]),\n",
       " 'split1_train_recall': array([1.        , 0.74766355, 0.78504673, 0.71962617, 0.77570093,\n",
       "        0.74766355, 0.81308411, 0.79439252, 0.81308411, 0.77570093,\n",
       "        0.85046729, 0.8317757 , 0.85046729, 0.85046729, 0.86915888,\n",
       "        0.85046729, 0.85046729, 0.85046729, 0.89719626, 0.87850467]),\n",
       " 'split2_train_recall': array([1.        , 0.69158879, 0.80373832, 0.68224299, 0.73831776,\n",
       "        0.71028037, 0.77570093, 0.70093458, 0.79439252, 0.73831776,\n",
       "        0.78504673, 0.77570093, 0.81308411, 0.76635514, 0.80373832,\n",
       "        0.78504673, 0.81308411, 0.81308411, 0.81308411, 0.80373832]),\n",
       " 'split3_train_recall': array([1.        , 0.70093458, 0.76635514, 0.6728972 , 0.81308411,\n",
       "        0.71028037, 0.78504673, 0.76635514, 0.82242991, 0.75700935,\n",
       "        0.80373832, 0.79439252, 0.8411215 , 0.79439252, 0.79439252,\n",
       "        0.82242991, 0.8411215 , 0.8317757 , 0.8317757 , 0.8317757 ]),\n",
       " 'split4_train_recall': array([1.        , 0.75      , 0.86111111, 0.75925926, 0.82407407,\n",
       "        0.74074074, 0.82407407, 0.76851852, 0.84259259, 0.81481481,\n",
       "        0.83333333, 0.81481481, 0.85185185, 0.76851852, 0.82407407,\n",
       "        0.75      , 0.78703704, 0.75925926, 0.73148148, 0.71296296]),\n",
       " 'mean_train_recall': array([1.        , 0.72196262, 0.79839045, 0.71820699, 0.79098304,\n",
       "        0.73506404, 0.80593631, 0.7630495 , 0.80964001, 0.76483212,\n",
       "        0.805919  , 0.79847698, 0.83766009, 0.79108688, 0.8246279 ,\n",
       "        0.80233645, 0.82469713, 0.81166494, 0.81732433, 0.80427484]),\n",
       " 'std_train_recall': array([0.        , 0.02373537, 0.03370938, 0.03616438, 0.03083292,\n",
       "        0.02190236, 0.02190112, 0.03275779, 0.02300288, 0.02857838,\n",
       "        0.03337261, 0.02204499, 0.01425494, 0.03128795, 0.02601906,\n",
       "        0.03394209, 0.02252604, 0.0307287 , 0.0529024 , 0.05422577]),\n",
       " 'split0_test_f1': array([0.67857143, 0.625     , 0.66666667, 0.58333333, 0.71428571,\n",
       "        0.69090909, 0.73684211, 0.71698113, 0.70175439, 0.71698113,\n",
       "        0.72727273, 0.69090909, 0.65454545, 0.66666667, 0.63157895,\n",
       "        0.65454545, 0.66666667, 0.71698113, 0.65517241, 0.6779661 ]),\n",
       " 'split1_test_f1': array([0.61538462, 0.6       , 0.64285714, 0.63157895, 0.65517241,\n",
       "        0.59649123, 0.62068966, 0.60714286, 0.6779661 , 0.68965517,\n",
       "        0.70967742, 0.67741935, 0.66666667, 0.67692308, 0.68656716,\n",
       "        0.68656716, 0.65671642, 0.67647059, 0.64705882, 0.63636364]),\n",
       " 'split2_test_f1': array([0.67857143, 0.60869565, 0.65454545, 0.61538462, 0.60377358,\n",
       "        0.56      , 0.62745098, 0.6122449 , 0.66666667, 0.62962963,\n",
       "        0.65454545, 0.67857143, 0.66666667, 0.64285714, 0.68965517,\n",
       "        0.64285714, 0.66666667, 0.64285714, 0.68965517, 0.64285714]),\n",
       " 'split3_test_f1': array([0.74576271, 0.75471698, 0.81355932, 0.71428571, 0.74576271,\n",
       "        0.80701754, 0.79310345, 0.82142857, 0.79310345, 0.79310345,\n",
       "        0.77966102, 0.74576271, 0.77419355, 0.76666667, 0.74576271,\n",
       "        0.74576271, 0.73015873, 0.72131148, 0.70967742, 0.75      ]),\n",
       " 'split4_test_f1': array([0.61538462, 0.625     , 0.61538462, 0.61538462, 0.64285714,\n",
       "        0.61818182, 0.6779661 , 0.69090909, 0.63333333, 0.65517241,\n",
       "        0.6440678 , 0.6779661 , 0.66666667, 0.68965517, 0.6779661 ,\n",
       "        0.68965517, 0.71186441, 0.75      , 0.73684211, 0.75      ]),\n",
       " 'mean_test_f1': array([0.66683278, 0.64236571, 0.67856743, 0.63179066, 0.67231095,\n",
       "        0.6541901 , 0.69089887, 0.6891875 , 0.69466365, 0.69685578,\n",
       "        0.7032157 , 0.69404591, 0.68554002, 0.68822186, 0.68612926,\n",
       "        0.68357406, 0.68602349, 0.70104167, 0.687184  , 0.69071139]),\n",
       " 'std_test_f1': array([0.04838911, 0.05671238, 0.06923501, 0.04395526, 0.05104841,\n",
       "        0.08733782, 0.0659163 , 0.07865931, 0.0536463 , 0.05641316,\n",
       "        0.04943524, 0.02621398, 0.04434908, 0.04192333, 0.03637822,\n",
       "        0.03581053, 0.02901198, 0.03749907, 0.0333766 , 0.04974479]),\n",
       " 'rank_test_f1': array([17, 19, 15, 20, 16, 18,  6,  8,  4,  3,  1,  5, 13,  9, 11, 14, 12,\n",
       "         2, 10,  7]),\n",
       " 'split0_train_f1': array([1.        , 0.78571429, 0.76146789, 0.77142857, 0.76444444,\n",
       "        0.75925926, 0.77056277, 0.75      , 0.73451327, 0.71818182,\n",
       "        0.72      , 0.73127753, 0.75423729, 0.71861472, 0.74789916,\n",
       "        0.73504274, 0.73858921, 0.72268908, 0.7219917 , 0.71428571]),\n",
       " 'split1_train_f1': array([1.        , 0.81218274, 0.77419355, 0.74757282, 0.75113122,\n",
       "        0.74074074, 0.77678571, 0.76923077, 0.77333333, 0.74774775,\n",
       "        0.77118644, 0.77391304, 0.75833333, 0.77118644, 0.76859504,\n",
       "        0.76470588, 0.75206612, 0.75833333, 0.77732794, 0.77366255]),\n",
       " 'split2_train_f1': array([1.        , 0.76683938, 0.76785714, 0.72277228, 0.7281106 ,\n",
       "        0.72037915, 0.74107143, 0.69444444, 0.73913043, 0.70222222,\n",
       "        0.71489362, 0.71861472, 0.73109244, 0.70386266, 0.7107438 ,\n",
       "        0.69709544, 0.71020408, 0.71311475, 0.70445344, 0.70491803]),\n",
       " 'split3_train_f1': array([1.        , 0.77319588, 0.74885845, 0.70935961, 0.76315789,\n",
       "        0.71698113, 0.73043478, 0.72888889, 0.74576271, 0.71681416,\n",
       "        0.72268908, 0.71729958, 0.74380165, 0.71428571, 0.70833333,\n",
       "        0.72427984, 0.72580645, 0.73251029, 0.71774194, 0.72653061]),\n",
       " 'split4_train_f1': array([1.        , 0.8019802 , 0.79487179, 0.75925926, 0.75105485,\n",
       "        0.7239819 , 0.75744681, 0.73451327, 0.74897119, 0.75862069,\n",
       "        0.75      , 0.75536481, 0.76666667, 0.73127753, 0.75105485,\n",
       "        0.71681416, 0.74235808, 0.72888889, 0.70535714, 0.7       ]),\n",
       " 'mean_train_f1': array([1.        , 0.7879825 , 0.76944976, 0.74207851, 0.7515798 ,\n",
       "        0.73226844, 0.7552603 , 0.73541548, 0.74834219, 0.72871733,\n",
       "        0.73575383, 0.73929394, 0.75082628, 0.72784541, 0.73732524,\n",
       "        0.72758761, 0.73380479, 0.73110727, 0.72537443, 0.72387938]),\n",
       " 'std_train_f1': array([0.        , 0.01704352, 0.01522519, 0.0229349 , 0.01304478,\n",
       "        0.01577345, 0.01743514, 0.02481217, 0.01347369, 0.02102875,\n",
       "        0.02150555, 0.02205629, 0.01230998, 0.02338575, 0.02377063,\n",
       "        0.02231648, 0.01449477, 0.01511784, 0.0268598 , 0.02648467]),\n",
       " 'split0_test_accuracy': array([0.63265306, 0.63265306, 0.63265306, 0.59183673, 0.67346939,\n",
       "        0.65306122, 0.69387755, 0.69387755, 0.65306122, 0.69387755,\n",
       "        0.69387755, 0.65306122, 0.6122449 , 0.63265306, 0.57142857,\n",
       "        0.6122449 , 0.6122449 , 0.69387755, 0.59183673, 0.6122449 ]),\n",
       " 'split1_test_accuracy': array([0.59183673, 0.59183673, 0.59183673, 0.57142857, 0.59183673,\n",
       "        0.53061224, 0.55102041, 0.55102041, 0.6122449 , 0.63265306,\n",
       "        0.63265306, 0.59183673, 0.55102041, 0.57142857, 0.57142857,\n",
       "        0.57142857, 0.53061224, 0.55102041, 0.51020408, 0.51020408]),\n",
       " 'split2_test_accuracy': array([0.63265306, 0.63265306, 0.6122449 , 0.59183673, 0.57142857,\n",
       "        0.55102041, 0.6122449 , 0.6122449 , 0.63265306, 0.59183673,\n",
       "        0.6122449 , 0.63265306, 0.6122449 , 0.59183673, 0.63265306,\n",
       "        0.59183673, 0.6122449 , 0.59183673, 0.63265306, 0.59183673]),\n",
       " 'split3_test_accuracy': array([0.6875    , 0.72916667, 0.77083333, 0.66666667, 0.6875    ,\n",
       "        0.77083333, 0.75      , 0.79166667, 0.75      , 0.75      ,\n",
       "        0.72916667, 0.6875    , 0.70833333, 0.70833333, 0.6875    ,\n",
       "        0.6875    , 0.64583333, 0.64583333, 0.625     , 0.66666667]),\n",
       " 'split4_test_accuracy': array([0.57446809, 0.61702128, 0.57446809, 0.57446809, 0.57446809,\n",
       "        0.55319149, 0.59574468, 0.63829787, 0.53191489, 0.57446809,\n",
       "        0.55319149, 0.59574468, 0.57446809, 0.61702128, 0.59574468,\n",
       "        0.61702128, 0.63829787, 0.70212766, 0.68085106, 0.70212766]),\n",
       " 'mean_test_accuracy': array([0.62396694, 0.64049587, 0.63636364, 0.59917355, 0.61983471,\n",
       "        0.61157025, 0.64049587, 0.65702479, 0.63636364, 0.64876033,\n",
       "        0.6446281 , 0.6322314 , 0.61157025, 0.62396694, 0.61157025,\n",
       "        0.61570248, 0.60743802, 0.63636364, 0.60743802, 0.61570248]),\n",
       " 'std_test_accuracy': array([0.03893654, 0.04659239, 0.06966059, 0.03463726, 0.05023444,\n",
       "        0.09006068, 0.07160285, 0.08136394, 0.06969305, 0.06500519,\n",
       "        0.06143118, 0.03581492, 0.0535446 , 0.04695049, 0.04398531,\n",
       "        0.03921017, 0.04100964, 0.05834137, 0.05657066, 0.06585706]),\n",
       " 'rank_test_accuracy': array([10,  4,  6, 20, 12, 15,  4,  1,  6,  2,  3,  9, 15, 10, 15, 13, 18,\n",
       "         6, 18, 13]),\n",
       " 'split0_train_accuracy': array([1.        , 0.78238342, 0.73056995, 0.75129534, 0.7253886 ,\n",
       "        0.73056995, 0.7253886 , 0.70984456, 0.68911917, 0.67875648,\n",
       "        0.67357513, 0.68393782, 0.69948187, 0.66321244, 0.68911917,\n",
       "        0.67875648, 0.67357513, 0.65803109, 0.65284974, 0.64766839]),\n",
       " 'split1_train_accuracy': array([1.        , 0.80829016, 0.74611399, 0.73056995, 0.71502591,\n",
       "        0.70984456, 0.74093264, 0.7357513 , 0.7357513 , 0.70984456,\n",
       "        0.72020725, 0.73056995, 0.69948187, 0.72020725, 0.70984456,\n",
       "        0.70984456, 0.68911917, 0.69948187, 0.71502591, 0.71502591]),\n",
       " 'split2_train_accuracy': array([1.        , 0.76683938, 0.73056995, 0.70984456, 0.69430052,\n",
       "        0.69430052, 0.69948187, 0.65803109, 0.68911917, 0.65284974,\n",
       "        0.65284974, 0.66321244, 0.66839378, 0.64248705, 0.6373057 ,\n",
       "        0.62176166, 0.63212435, 0.6373057 , 0.62176166, 0.62694301]),\n",
       " 'split3_train_accuracy': array([1.        , 0.77319588, 0.71649485, 0.69587629, 0.72164948,\n",
       "        0.69072165, 0.68041237, 0.68556701, 0.69072165, 0.67010309,\n",
       "        0.65979381, 0.65463918, 0.68041237, 0.64948454, 0.63917526,\n",
       "        0.65463918, 0.64948454, 0.66494845, 0.63917526, 0.65463918]),\n",
       " 'split4_train_accuracy': array([1.        , 0.79487179, 0.75384615, 0.73333333, 0.6974359 ,\n",
       "        0.68717949, 0.70769231, 0.69230769, 0.68717949, 0.71282051,\n",
       "        0.69230769, 0.70769231, 0.71282051, 0.68717949, 0.6974359 ,\n",
       "        0.67179487, 0.6974359 , 0.68717949, 0.66153846, 0.66153846]),\n",
       " 'mean_train_accuracy': array([1.        , 0.78511612, 0.73551898, 0.72418389, 0.71076008,\n",
       "        0.70252323, 0.71078156, 0.69630033, 0.69837815, 0.68487488,\n",
       "        0.67974673, 0.68801034, 0.69211808, 0.67251415, 0.67457612,\n",
       "        0.66735935, 0.66834782, 0.66938932, 0.6580702 , 0.66116299]),\n",
       " 'std_train_accuracy': array([0.        , 0.0149386 , 0.01310758, 0.01932077, 0.01264295,\n",
       "        0.01601587, 0.02089003, 0.0258283 , 0.01872026, 0.02317625,\n",
       "        0.02430838, 0.02808507, 0.01572836, 0.02831331, 0.03039815,\n",
       "        0.02896727, 0.02438382, 0.02190954, 0.03149147, 0.02931562])}"
      ]
     },
     "execution_count": 21,
     "metadata": {},
     "output_type": "execute_result"
    }
   ],
   "source": [
    "knc_gs.cv_results_"
   ]
  },
  {
   "cell_type": "code",
   "execution_count": 22,
   "metadata": {},
   "outputs": [
    {
     "data": {
      "text/plain": [
       "KNeighborsClassifier(algorithm='auto', leaf_size=30, metric='minkowski',\n",
       "           metric_params=None, n_jobs=None, n_neighbors=31, p=2,\n",
       "           weights='uniform')"
      ]
     },
     "execution_count": 22,
     "metadata": {},
     "output_type": "execute_result"
    }
   ],
   "source": [
    "# Лучшая модель\n",
    "best_knc = knc_gs.best_estimator_\n",
    "best_knc"
   ]
  },
  {
   "cell_type": "code",
   "execution_count": 23,
   "metadata": {},
   "outputs": [
    {
     "data": {
      "text/plain": [
       "0.7032157012880798"
      ]
     },
     "execution_count": 23,
     "metadata": {},
     "output_type": "execute_result"
    }
   ],
   "source": [
    "# Лучшее f1\n",
    "knc_gs.best_score_"
   ]
  },
  {
   "cell_type": "code",
   "execution_count": 28,
   "metadata": {},
   "outputs": [
    {
     "data": {
      "text/plain": [
       "{'n_neighbors': 31}"
      ]
     },
     "execution_count": 28,
     "metadata": {},
     "output_type": "execute_result"
    }
   ],
   "source": [
    "# Лучшее k\n",
    "knc_gs.best_params_"
   ]
  },
  {
   "cell_type": "code",
   "execution_count": 29,
   "metadata": {},
   "outputs": [
    {
     "data": {
      "text/plain": [
       "array([0, 1, 1, 1, 0, 0, 0, 1, 1, 1, 0, 0, 0, 0, 1, 1, 1, 1, 1, 1, 0, 0,\n",
       "       0, 1, 1, 1, 1, 1, 0, 0, 1, 1, 1, 1, 1, 1, 1, 0, 1, 0, 1, 0, 1, 0,\n",
       "       1, 1, 1, 0, 1, 0, 1, 1, 0, 0, 1, 1, 1, 0, 1, 0, 0], dtype=int64)"
      ]
     },
     "execution_count": 29,
     "metadata": {},
     "output_type": "execute_result"
    }
   ],
   "source": [
    "# Проверяем на новом k\n",
    "best_knc.fit(X_train, y_train)\n",
    "predicted_best = knc.predict(X_test)\n",
    "predicted_best"
   ]
  },
  {
   "cell_type": "code",
   "execution_count": 30,
   "metadata": {},
   "outputs": [
    {
     "data": {
      "text/plain": [
       "({'precision': 0.5833333333333334,\n",
       "  'recall': 0.4666666666666667,\n",
       "  'f1-score': 0.5185185185185186,\n",
       "  'support': 30},\n",
       " {'precision': 0.5675675675675675,\n",
       "  'recall': 0.6774193548387096,\n",
       "  'f1-score': 0.6176470588235294,\n",
       "  'support': 31})"
      ]
     },
     "execution_count": 30,
     "metadata": {},
     "output_type": "execute_result"
    }
   ],
   "source": [
    "classification_report(y_test, predicted_best, output_dict=True)[\"0\"], \\\n",
    "classification_report(y_test, predicted_best, output_dict=True)[\"1\"]"
   ]
  },
  {
   "cell_type": "code",
   "execution_count": 32,
   "metadata": {},
   "outputs": [
    {
     "data": {
      "text/plain": [
       "[<matplotlib.lines.Line2D at 0x1aad2f67828>]"
      ]
     },
     "execution_count": 32,
     "metadata": {},
     "output_type": "execute_result"
    },
    {
     "data": {
      "image/png": "[encoded data removed]",
      "text/plain": [
       "<Figure size 432x288 with 1 Axes>"
      ]
     },
     "metadata": {
      "needs_background": "light"
     },
     "output_type": "display_data"
    }
   ],
   "source": [
    "# изменение f1 от k\n",
    "plt.plot(n_range, knc_gs.cv_results_['mean_test_f1'])"
   ]
  },
  {
   "cell_type": "code",
   "execution_count": 33,
   "metadata": {},
   "outputs": [
    {
     "data": {
      "text/plain": [
       "[<matplotlib.lines.Line2D at 0x1aad2ff56a0>]"
      ]
     },
     "execution_count": 33,
     "metadata": {},
     "output_type": "execute_result"
    },
    {
     "data": {
      "image/png": "[encoded data removed]",
      "text/plain": [
       "<Figure size 432x288 with 1 Axes>"
      ]
     },
     "metadata": {
      "needs_background": "light"
     },
     "output_type": "display_data"
    }
   ],
   "source": [
    "# изменение recall от k\n",
    "plt.plot(n_range, knc_gs.cv_results_['mean_test_recall'])"
   ]
  },
  {
   "cell_type": "code",
   "execution_count": 34,
   "metadata": {},
   "outputs": [
    {
     "data": {
      "text/plain": [
       "[<matplotlib.lines.Line2D at 0x1aad30617f0>]"
      ]
     },
     "execution_count": 34,
     "metadata": {},
     "output_type": "execute_result"
    },
    {
     "data": {
      "image/png": "[encoded data removed]",
      "text/plain": [
       "<Figure size 432x288 with 1 Axes>"
      ]
     },
     "metadata": {
      "needs_background": "light"
     },
     "output_type": "display_data"
    }
   ],
   "source": [
    "# изменение accuracy от k\n",
    "plt.plot(n_range, knc_gs.cv_results_['mean_test_accuracy'])"
   ]
  },
  {
   "cell_type": "code",
   "execution_count": 35,
   "metadata": {},
   "outputs": [],
   "source": [
    "def plot_learning_curve(estimator, title, X, y, ylim=None, cv=None,\n",
    "                        n_jobs=None, train_sizes=np.linspace(.1, 1.0, 5)):\n",
    "    plt.figure()\n",
    "    plt.title(title)\n",
    "    if ylim is not None:\n",
    "        plt.ylim(*ylim)\n",
    "    plt.xlabel(\"Training examples\")\n",
    "    plt.ylabel(\"Score\")\n",
    "    train_sizes, train_scores, test_scores = learning_curve(\n",
    "        estimator, X, y, cv=cv, n_jobs=n_jobs, train_sizes=train_sizes)\n",
    "    train_scores_mean = np.mean(train_scores, axis=1)\n",
    "    train_scores_std = np.std(train_scores, axis=1)\n",
    "    test_scores_mean = np.mean(test_scores, axis=1)\n",
    "    test_scores_std = np.std(test_scores, axis=1)\n",
    "    plt.grid()\n",
    "\n",
    "    plt.fill_between(train_sizes, train_scores_mean - train_scores_std,\n",
    "                     train_scores_mean + train_scores_std, alpha=0.1,\n",
    "                     color=\"r\")\n",
    "    plt.fill_between(train_sizes, test_scores_mean - test_scores_std,\n",
    "                     test_scores_mean + test_scores_std, alpha=0.1, color=\"g\")\n",
    "    plt.plot(train_sizes, train_scores_mean, 'o-', color=\"r\",\n",
    "             label=\"Training score\")\n",
    "    plt.plot(train_sizes, test_scores_mean, 'o-', color=\"g\",\n",
    "             label=\"Cross-validation score\")\n",
    "\n",
    "    plt.legend(loc=\"best\")\n",
    "    return plt\n",
    "\n",
    "\n",
    "def plot_validation_curve(estimator, title, X, y, \n",
    "                          param_name, param_range, cv, \n",
    "                          scoring=\"accuracy\"):\n",
    "                                                   \n",
    "    train_scores, test_scores = validation_curve(\n",
    "        estimator, X, y, param_name=param_name, param_range=param_range,\n",
    "        cv=cv, scoring=scoring, n_jobs=1)\n",
    "    train_scores_mean = np.mean(train_scores, axis=1)\n",
    "    train_scores_std = np.std(train_scores, axis=1)\n",
    "    test_scores_mean = np.mean(test_scores, axis=1)\n",
    "    test_scores_std = np.std(test_scores, axis=1)\n",
    "\n",
    "    plt.title(title)\n",
    "    plt.xlabel(param_name)\n",
    "    plt.ylabel(\"Score\")\n",
    "    plt.ylim(0.0, 1.1)\n",
    "    lw = 2\n",
    "    plt.plot(param_range, train_scores_mean, label=\"Training score\",\n",
    "                 color=\"darkorange\", lw=lw)\n",
    "    plt.fill_between(param_range, train_scores_mean - train_scores_std,\n",
    "                     train_scores_mean + train_scores_std, alpha=0.2,\n",
    "                     color=\"darkorange\", lw=lw)\n",
    "    plt.plot(param_range, test_scores_mean, label=\"Cross-validation score\",\n",
    "                 color=\"navy\", lw=lw)\n",
    "    plt.fill_between(param_range, test_scores_mean - test_scores_std,\n",
    "                     test_scores_mean + test_scores_std, alpha=0.2,\n",
    "                     color=\"navy\", lw=lw)\n",
    "    plt.legend(loc=\"best\")\n",
    "    return plt"
   ]
  },
  {
   "cell_type": "code",
   "execution_count": 36,
   "metadata": {},
   "outputs": [
    {
     "data": {
      "text/plain": [
       "<module 'matplotlib.pyplot' from 'C:\\\\ProgramData\\\\Anaconda3\\\\lib\\\\site-packages\\\\matplotlib\\\\pyplot.py'>"
      ]
     },
     "execution_count": 36,
     "metadata": {},
     "output_type": "execute_result"
    },
    {
     "data": {
      "image/png": "[encoded data removed]",
      "text/plain": [
       "<Figure size 432x288 with 1 Axes>"
      ]
     },
     "metadata": {
      "needs_background": "light"
     },
     "output_type": "display_data"
    }
   ],
   "source": [
    "plot_validation_curve(KNeighborsClassifier(), 'knc', \n",
    "                      X_train, y_train, \n",
    "                      param_name='n_neighbors', param_range=n_range, \n",
    "                      cv=20, scoring=\"f1\")"
   ]
  },
  {
   "cell_type": "code",
   "execution_count": 37,
   "metadata": {},
   "outputs": [
    {
     "data": {
      "text/plain": [
       "<module 'matplotlib.pyplot' from 'C:\\\\ProgramData\\\\Anaconda3\\\\lib\\\\site-packages\\\\matplotlib\\\\pyplot.py'>"
      ]
     },
     "execution_count": 37,
     "metadata": {},
     "output_type": "execute_result"
    },
    {
     "data": {
      "image/png": "[encoded data removed]",
      "text/plain": [
       "<Figure size 432x288 with 1 Axes>"
      ]
     },
     "metadata": {
      "needs_background": "light"
     },
     "output_type": "display_data"
    }
   ],
   "source": [
    "plot_learning_curve(KNeighborsClassifier(n_neighbors=10), 'n_neighbors=10', \n",
    "                    X_train, y_train, cv=20)"
   ]
  }
 ],
 "metadata": {
  "kernelspec": {
   "display_name": "Python 3",
   "language": "python",
   "name": "python3"
  },
  "language_info": {
   "codemirror_mode": {
    "name": "ipython",
    "version": 3
   },
   "file_extension": ".py",
   "mimetype": "text/x-python",
   "name": "python",
   "nbconvert_exporter": "python",
   "pygments_lexer": "ipython3",
   "version": "3.7.3"
  }
 },
 "nbformat": 4,
 "nbformat_minor": 2
}
